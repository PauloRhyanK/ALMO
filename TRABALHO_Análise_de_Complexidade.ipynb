{
  "nbformat": 4,
  "nbformat_minor": 0,
  "metadata": {
    "colab": {
      "provenance": [],
      "collapsed_sections": [
        "5dircNoFxfpk",
        "zUBN5mLAzPHi"
      ],
      "include_colab_link": true
    },
    "kernelspec": {
      "name": "python3",
      "display_name": "Python 3"
    }
  },
  "cells": [
    {
      "cell_type": "markdown",
      "metadata": {
        "id": "view-in-github",
        "colab_type": "text"
      },
      "source": [
        "<a href=\"https://colab.research.google.com/github/PauloRhyanK/ALMO/blob/main/TRABALHO_An%C3%A1lise_de_Complexidade.ipynb\" target=\"_parent\"><img src=\"https://colab.research.google.com/assets/colab-badge.svg\" alt=\"Open In Colab\"/></a>"
      ]
    },
    {
      "cell_type": "markdown",
      "metadata": {
        "id": "G90zxY79qIXe"
      },
      "source": [
        "\n",
        "<html>\n",
        "  <body>\n",
        "    <header></header>\n",
        "        <CENTER>\n",
        "          <img src=\"https://uvv.br/wp-content/themes/core/dist/images/Logo@2x.png\" alt=\"UVV-LOGO\" style = width=\"100px\"; height=\"100px\">\n",
        "        </CENTER>\n",
        "        <CENTER>\n",
        "          <b>\n",
        "            <font size=\"5\">PROJETO E ANÁLISE DE ALGORITMOS\n",
        "          </b>\n",
        "          </CENTER>\n",
        "        <CENTER><b>TRABALHO</b></CENTER><br/>\n",
        "        </font>"
      ]
    },
    {
      "cell_type": "markdown",
      "source": [
        "COLAB: [Link]()"
      ],
      "metadata": {
        "id": "koY2aomhEh-L"
      }
    },
    {
      "cell_type": "markdown",
      "metadata": {
        "id": "_Kanz0T-rhol"
      },
      "source": [
        "# BIBLIOTECAS"
      ]
    },
    {
      "cell_type": "code",
      "source": [
        "import numpy\n",
        "import time\n",
        "import matplotlib.pyplot as plt\n",
        "import graphviz"
      ],
      "metadata": {
        "id": "Mmg91VilSlU0"
      },
      "execution_count": 1,
      "outputs": []
    },
    {
      "cell_type": "markdown",
      "source": [
        "# FUNÇÕES"
      ],
      "metadata": {
        "id": "5dircNoFxfpk"
      }
    },
    {
      "cell_type": "code",
      "source": [
        "# Colocar aqui seu algoritmo de ordenação sorteado na Pauta:\n"
      ],
      "metadata": {
        "id": "fRAwx9-wS2jo"
      },
      "execution_count": null,
      "outputs": []
    },
    {
      "cell_type": "code",
      "source": [
        "def piorCaso(T = 2):\n",
        "  '''\n",
        "  Você deve analisar e criar o vetor do pior caso:\n",
        "  criar o vetor de acordo com as características do seu algoritmo.\n",
        "  '''\n",
        "  array = numpy.arange(1, T - 1, 1)\n",
        "  return array"
      ],
      "metadata": {
        "id": "DAf1BY9ReM2P"
      },
      "execution_count": null,
      "outputs": []
    },
    {
      "cell_type": "code",
      "source": [
        "def casoMedio(T = 2):\n",
        "  array = numpy.random.choice(numpy.arange(10, 100, 1), T, replace = False)\n",
        "  return array"
      ],
      "metadata": {
        "id": "NjFXSWWOyDJ6"
      },
      "execution_count": null,
      "outputs": []
    },
    {
      "cell_type": "code",
      "source": [
        "def melhorCaso(T = 2):\n",
        "  array = numpy.arange(1, T + 1, 1)\n",
        "  return array"
      ],
      "metadata": {
        "id": "GpqrYBL-yDRL"
      },
      "execution_count": null,
      "outputs": []
    },
    {
      "cell_type": "code",
      "source": [
        "def desenhar_vetor(vetor, nome=\"Vetor\", i = None, j = None):\n",
        "    \"\"\"\n",
        "      Gera um desenho do vetor usando Graphviz com formato de record.\n",
        "      i = None, j = None -> Parâmetros atuais da permutação do vetor\n",
        "      Você deve completar o código para destacar as posições i e j do vetor\n",
        "    \"\"\"\n",
        "    vetor = numpy.array(vetor)  # Converte para array NumPy, se necessário\n",
        "    grafo = graphviz.Digraph(format='png')  # Cria o gráfico\n",
        "\n",
        "    grafo.attr(rankdir='LR', size='8')  # Direção da esquerda para a direita\n",
        "    grafo.attr(label=f\" {nome} \", fontsize='16', labelloc='t')\n",
        "\n",
        "    # Criando o nó do vetor inteiro usando record\n",
        "    elementos = \" | \".join(str(valor) for valor in vetor)  # Concatena os valores do vetor\n",
        "    grafo.node(\"vetor\", label=f\"{{ {elementos} }}\", shape=\"record\", style=\"filled\", fillcolor=\"lightblue\")\n",
        "\n",
        "    return grafo"
      ],
      "metadata": {
        "id": "aHN-2EDQ2Wa0"
      },
      "execution_count": null,
      "outputs": []
    },
    {
      "cell_type": "code",
      "source": [
        "def LetraA():\n",
        "  piorCaso()\n",
        "  return"
      ],
      "metadata": {
        "id": "xh3DTUHWbEmJ"
      },
      "execution_count": null,
      "outputs": []
    },
    {
      "cell_type": "markdown",
      "source": [
        "# ENGENHARIA REVERSA"
      ],
      "metadata": {
        "id": "zUBN5mLAzPHi"
      }
    },
    {
      "cell_type": "code",
      "source": [
        "# TESTANDO A FUNÇÃO\n",
        "array = casoMedio(10)\n",
        "insertion_sort(array)"
      ],
      "metadata": {
        "colab": {
          "base_uri": "https://localhost:8080/"
        },
        "id": "-XMCTiNsYUBu",
        "outputId": "7426a0b6-4595-4ed6-ea55-736f11de9273"
      },
      "execution_count": null,
      "outputs": [
        {
          "output_type": "execute_result",
          "data": {
            "text/plain": [
              "array([23, 25, 34, 44, 50, 62, 77, 85, 88, 89])"
            ]
          },
          "metadata": {},
          "execution_count": 21
        }
      ]
    },
    {
      "cell_type": "markdown",
      "metadata": {
        "id": "9xAeS2N6odUE"
      },
      "source": [
        "# EXERCÍCIOS"
      ]
    },
    {
      "cell_type": "markdown",
      "source": [
        "## Letra A)"
      ],
      "metadata": {
        "id": "z8-ip9IbkXN-"
      }
    },
    {
      "cell_type": "markdown",
      "source": [
        "Exibir a função de complexidade, por cálculo de engenharia reversa, das 5 primeiras instâncias do pior caso."
      ],
      "metadata": {
        "id": "q1HKMl3vvpQN"
      }
    },
    {
      "cell_type": "code",
      "metadata": {
        "id": "UL_M1UXIoeKY"
      },
      "source": [
        "LetraA()"
      ],
      "execution_count": null,
      "outputs": []
    },
    {
      "cell_type": "markdown",
      "source": [
        "## Letra B)"
      ],
      "metadata": {
        "id": "3YrY2WBCvxZo"
      }
    },
    {
      "cell_type": "markdown",
      "source": [
        "Faça o rastreamento automático, usando a biblioteca Python graphviz e a função **desenhar_vetor**, do algoritmo do algoritmo de ordenação para tamanho: N = 5, a saber:\n",
        "*   Pior Caso\n",
        "*   Caso Médio"
      ],
      "metadata": {
        "id": "uwFme9znlP5U"
      }
    },
    {
      "cell_type": "code",
      "source": [
        "# Pior Caso\n",
        "LetraB()"
      ],
      "metadata": {
        "id": "cEgw2z-4lOC1"
      },
      "execution_count": null,
      "outputs": []
    },
    {
      "cell_type": "code",
      "source": [
        "# Caso Médio\n",
        "LetraB()"
      ],
      "metadata": {
        "id": "lekBaKqN-cDM"
      },
      "execution_count": null,
      "outputs": []
    },
    {
      "cell_type": "markdown",
      "source": [
        "## Letra C)"
      ],
      "metadata": {
        "id": "89Zys8IMwvsC"
      }
    },
    {
      "cell_type": "markdown",
      "source": [
        "Fazer todas as provas e fórmulas matemáticas usando a Linguagem de Marcação: $L^aTe_x$"
      ],
      "metadata": {
        "id": "g38vxzIcwFd8"
      }
    },
    {
      "cell_type": "markdown",
      "source": [
        "Faça a prova matemática da **Função de Complexidade**: $f(n)$ do seu algoritmo de ordenação, para os 3 casos, a saber:\n",
        "*   Pior Caso\n",
        "*   Melhor Caso\n",
        "*   Caso Médio"
      ],
      "metadata": {
        "id": "GFbtGKQRSzP6"
      }
    },
    {
      "cell_type": "markdown",
      "source": [
        "RESPOSTA AQUI NA CÉLULA DE TEXTO EM LATEX:\n",
        "\n",
        "$f(n) \\propto ...$"
      ],
      "metadata": {
        "id": "P0TjRSUd5OPi"
      }
    },
    {
      "cell_type": "markdown",
      "source": [
        "## Letra D)"
      ],
      "metadata": {
        "id": "s5Sf3Ztg7QJ0"
      }
    },
    {
      "cell_type": "markdown",
      "source": [
        "Faça a prova matemática da **Série Finita de Termos**: $Σ$ do seu algoritmo de ordenação, para o Pior Caso."
      ],
      "metadata": {
        "id": "xkVu7yMLy8ff"
      }
    },
    {
      "cell_type": "markdown",
      "source": [
        "RESPOSTA AQUI NA CÉLULA DE TEXTO EM LATEX:\n",
        "\n",
        "$\\sum =  ...$"
      ],
      "metadata": {
        "id": "pIqUSaJx6CyC"
      }
    },
    {
      "cell_type": "markdown",
      "source": [
        "## Letra E)"
      ],
      "metadata": {
        "id": "VSBdqWzXzh1G"
      }
    },
    {
      "cell_type": "markdown",
      "source": [
        "Faça a prova matemática da **Relação de Recorrência**: $T(n)$ do seu algoritmo de ordenação, para o Pior Caso."
      ],
      "metadata": {
        "id": "I5l1U0Ovzh7A"
      }
    },
    {
      "cell_type": "markdown",
      "source": [
        "RESPOSTA AQUI NA CÉLULA DE TEXTO EM LATEX:\n",
        "\n",
        "$T(n)$ =\n",
        "  \\begin{cases}\n",
        "    ?       & \\quad \\text{if } n \\text{ is even}\\\\\n",
        "    T(n+1) + G(N)  & \\quad \\text{if } n \\text{ is odd}\n",
        "  \\end{cases}\n"
      ],
      "metadata": {
        "id": "nYmYbHKx6XRz"
      }
    },
    {
      "cell_type": "markdown",
      "source": [
        "## Letra F)"
      ],
      "metadata": {
        "id": "FF9bjR3t0bOk"
      }
    },
    {
      "cell_type": "markdown",
      "source": [
        "Faça um gráfico com a plotagem das 100 primeiras instâncias dos 3 casos, a saber:\n",
        "*   Pior Caso\n",
        "*   Melhor Caso\n",
        "*   Caso Médio"
      ],
      "metadata": {
        "id": "7E_UK_N10bUC"
      }
    },
    {
      "cell_type": "code",
      "source": [],
      "metadata": {
        "id": "Dpg8TXUD0bhU"
      },
      "execution_count": null,
      "outputs": []
    },
    {
      "cell_type": "markdown",
      "source": [
        "#POR GENTILEZA: CONVERTER IPYNB para PDF:"
      ],
      "metadata": {
        "id": "kvruf_-Z7ml1"
      }
    },
    {
      "cell_type": "markdown",
      "source": [
        "**PASSO A PASSO:**\n",
        "\n",
        "1.   Fazer o download do seu IPYNB.\n",
        "2.   Fazer o upload do seu IPYNB para área temporária: content.\n",
        "3.   Rodar o código abaixo com SEU_NOME_NO_COLAB.ipynb: Gerar um HTML.\n",
        "4.   Fazer o download do seu HTML e abrir em um Browser qualquer.\n",
        "3.   Imprimir a página HTML em PDF. Pronto (UFA)::: 😅!\n",
        "\n",
        "**MOTIVO:** Seus Gráficos, Códigos Python e Células **NÃO** sairão **\" CORTADOS \"** de uma página para outra."
      ],
      "metadata": {
        "id": "FpE5y-OJ7mqO"
      }
    },
    {
      "cell_type": "code",
      "source": [
        "# Colocar o nome do arquivo .ipynb: Sem caracteres especiais\n",
        "# .../content/seu_nome.ipynb: é o PATH temporário do COLAB: Upload para a pasta ARQUIVOS, ao lado\n",
        "%%shell\n",
        "jupyter nbconvert --to html /content/seu_nome.ipynb"
      ],
      "metadata": {
        "id": "f6tiX-0C7m7c"
      },
      "execution_count": null,
      "outputs": []
    }
  ]
}